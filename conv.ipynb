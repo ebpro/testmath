{
 "cells": [
  {
   "cell_type": "markdown",
   "metadata": {
    "colab_type": "text",
    "id": "WyG-bTRQE3f6"
   },
   "source": [
    "# Étude de la convergence\n",
    "\n",
    "Considérons le problème de Cauchy\n",
    "\n",
    "trouver la fonction $y \\colon I\\subset \\mathbb{R} \\to \\mathbb{R}$ définie sur l'intervalle $I=[0,1]$ telle que\n",
    "$$\n",
    "\\begin{cases}\n",
    "y'(t) = y(t), &\\forall t \\in I=[0,1],\\\\\n",
    "y(0) = 1\n",
    "\\end{cases}\n",
    "$$\n",
    "dont la solution est $y(t)=e^{t}$. \n",
    "\n",
    "1. On se propose d'estimer l'ordre de convergence de la méthode d'Euler explicite. \n",
    "\tOn calcule d'abord la solution approchée avec différentes valeurs de $h_k=1/N_k$, à savoir $1/2$, $1/4$, $1/8$, \\dots, $1/1024$ (ce qui correspond à différentes valeurs de $N_k$, à savoir $2$, $2^2$, $2^3$, ... $2^{10}$). \n",
    "\tPour chaque valeur de $h_k$, on calcule le maximum de la valeur absolue de l'erreur et on sauvegarde toutes ces erreurs dans le vecteur `err_ep` de sort que `err_ep[k]` contient $e_k=\\max_{i=0,\\dots,N_k}|y(t_i)-u_{i}|$ avec $N_k=2^{k+1}$. \n",
    "\tPour estimer l'ordre de convergence on applique alors la formule\n",
    "\t$$\n",
    "\tp_k=\\frac{\\ln\\left| \\frac{e_k}{e_{k-1}} \\right|}{\\ln\\left| \\frac{h_k}{h_{k-1}} \\right|},\n",
    "\t\\qquad k=1,\\dots,10.\n",
    "\t$$\n",
    "\tOn trouve ainsi la pente de la droite qui relie l'erreur au pas $k$ à l'erreur au pas $k+1$. \n",
    "    Pour estimer la pente globale on pourra utiliser la fonction `polyfit` basée sur la régression linéaire. \t\n",
    "2. Même exercice pour estimer l'ordre de convergence des méthodes d'Euler modifié, de Heun, AB$_2$, AB$_3$, AB$_4$, AB$_5$, N$_2$, N$_3$, N$_4$, RK$_4$.\n",
    "3. Même exercice pour les méthodes predictor-corrector AM$_4$-AB$_1$, AM$_4$-AB$_2$, AM$_4$-AB$_3$.\n",
    "4. Puisque la fonction $\\varphi(t,y)=y$, toute méthode implicite peut être rendu explicite par un calcul élémentaire. On peut alors estimer de la même manière l'ordre de convergence des méthodes d'Euler implicite, de Crank-Nicolson, AM$_1$, AM$_2$, AM$_3$, AM$_4$, BDF$_2$, BDF$_3$ en explicitant directement pour chaque schéma l'expression de $u_{n+1}$. Cependant, nous pouvons utiliser le le module `SciPy` sans modifier l'implémentation des schémas.\n",
    "\n",
    "\n",
    "Attention: les schémas multistep ont besoin d'initialiser plusieurs pas de la suite définie pas récurrence pour pouvoir démarrer. \n",
    "Dans cette étude, au lieu d'utiliser un schéma d'ordre inférieur pour initialiser la suite, on utilisera la solution exacte (en effet, l'utilisation d'un schéma d'ordre inférieur dégrade l'ordre de précision)."
   ]
  },
  {
   "cell_type": "markdown",
   "metadata": {
    "toc": true
   },
   "source": [
    "<h1>Table of Contents<span class=\"tocSkip\"></span></h1>\n",
    "<div class=\"toc\"><ul class=\"toc-item\"><li><span><a href=\"#Schémas-explicites\" data-toc-modified-id=\"Schémas-explicites-1\"><span class=\"toc-item-num\">1&nbsp;&nbsp;</span>Schémas explicites</a></span></li><li><span><a href=\"#Schémas-implicites\" data-toc-modified-id=\"Schémas-implicites-2\"><span class=\"toc-item-num\">2&nbsp;&nbsp;</span>Schémas implicites</a></span></li><li><span><a href=\"#Schémas-predicteur-correcteur\" data-toc-modified-id=\"Schémas-predicteur-correcteur-3\"><span class=\"toc-item-num\">3&nbsp;&nbsp;</span>Schémas predicteur-correcteur</a></span></li><li><span><a href=\"#Calculs\" data-toc-modified-id=\"Calculs-4\"><span class=\"toc-item-num\">4&nbsp;&nbsp;</span>Calculs</a></span></li></ul></div>"
   ]
  },
  {
   "cell_type": "markdown",
   "metadata": {
    "colab_type": "text",
    "id": "XqFKpaBDF7OE"
   },
   "source": [
    "On commence par importer les modules `math` et `matplotlib` :"
   ]
  },
  {
   "cell_type": "code",
   "execution_count": 1,
   "metadata": {
    "colab": {
     "autoexec": {
      "startup": false,
      "wait_interval": 0
     }
    },
    "colab_type": "code",
    "id": "Hp6uV459F3cV"
   },
   "outputs": [],
   "source": [
    "import math\n",
    "from matplotlib.pylab import *\n",
    "%matplotlib inline"
   ]
  },
  {
   "cell_type": "markdown",
   "metadata": {},
   "source": [
    "Pour résoudre les équations implicites présentes dans les schémas implicites, on peut par exemple importer la fonction `fsolve` du module `scipy.optimize` :"
   ]
  },
  {
   "cell_type": "code",
   "execution_count": 2,
   "metadata": {},
   "outputs": [],
   "source": [
    "from scipy.optimize import fsolve"
   ]
  },
  {
   "cell_type": "markdown",
   "metadata": {
    "colab_type": "text",
    "id": "cnwNf75iGe0F"
   },
   "source": [
    "On initialise le problème de Cauchy"
   ]
  },
  {
   "cell_type": "code",
   "execution_count": 3,
   "metadata": {
    "colab": {
     "autoexec": {
      "startup": false,
      "wait_interval": 0
     }
    },
    "colab_type": "code",
    "id": "OLLu4aFJFENg"
   },
   "outputs": [],
   "source": [
    "t0, y0, tfinal = 0., 1., 3."
   ]
  },
  {
   "cell_type": "markdown",
   "metadata": {
    "colab_type": "text",
    "id": "ve4iOfOIGsYc"
   },
   "source": [
    "On définit la solution exacte:"
   ]
  },
  {
   "cell_type": "code",
   "execution_count": 4,
   "metadata": {
    "colab": {
     "autoexec": {
      "startup": false,
      "wait_interval": 0
     }
    },
    "colab_type": "code",
    "id": "W3EcAN2eGz2j"
   },
   "outputs": [],
   "source": [
    "def sol_exacte(t):\n",
    "\treturn math.exp(t)\n",
    "\t#return math.exp(-t)\n",
    "\t#return math.sqrt(2.*t+1.)\n",
    "\t#return math.sqrt(t**2+1.)\n",
    "\t#return 1./math.sqrt(1.-2.*t)"
   ]
  },
  {
   "cell_type": "markdown",
   "metadata": {
    "colab_type": "text",
    "id": "xpjn_ogYGo20"
   },
   "source": [
    "On définit l'équation différentielle : `phi` est une fonction python qui contient la fonction mathématique $\\varphi(t, y)=2ty$ dépendant des variables $t$ et $y$."
   ]
  },
  {
   "cell_type": "code",
   "execution_count": 5,
   "metadata": {
    "colab": {
     "autoexec": {
      "startup": false,
      "wait_interval": 0
     }
    },
    "colab_type": "code",
    "id": "df9F-MXWGm2a"
   },
   "outputs": [],
   "source": [
    "def phi(t,y):\n",
    "\treturn y\n",
    "\t#return -y\n",
    "\t#return 1./y \n",
    "\t#return t/y \n",
    "\t#return y**3 "
   ]
  },
  {
   "cell_type": "markdown",
   "metadata": {},
   "source": [
    "On écrit les schémas numériques :\n",
    "les nœuds d'intégration $[t_0,t_1,\\dots,t_{N}]$ sont contenus dans le vecteur `tt` (qui change en fonction de `h`) et les valeurs $[u_0,u_1,\\dots,u_{N}]$ pour chaque méthode sont contenues dans le vecteur `uu`."
   ]
  },
  {
   "cell_type": "markdown",
   "metadata": {},
   "source": [
    "## Schémas explicites"
   ]
  },
  {
   "cell_type": "markdown",
   "metadata": {
    "colab_type": "text",
    "id": "y69SGZjfIDo9"
   },
   "source": [
    "**Schéma d'Euler progressif :**\n",
    "$$\n",
    "\\begin{cases}\n",
    "u_0=y_0,\\\\\n",
    "u_{n+1}=u_n+h\\varphi(t_n,u_n)& n=0,1,2,\\dots  N-1\n",
    "\\end{cases}\n",
    "$$"
   ]
  },
  {
   "cell_type": "code",
   "execution_count": 6,
   "metadata": {
    "colab": {
     "autoexec": {
      "startup": false,
      "wait_interval": 0
     }
    },
    "colab_type": "code",
    "id": "_Bgo6mNyIQgu"
   },
   "outputs": [],
   "source": [
    "def euler_progressif(phi,tt):\n",
    "    uu = [y0]\n",
    "    for i in range(N):\n",
    "        uu.append(uu[i]+h*phi(tt[i],uu[i]))\n",
    "    return uu"
   ]
  },
  {
   "cell_type": "markdown",
   "metadata": {
    "colab_type": "text",
    "id": "bJ2pbhejIQM2"
   },
   "source": [
    "**Schéma de Adam-Bashforth d'ordre 2:**\n",
    "$$\n",
    "\\begin{cases}\n",
    "u_0=y_0,\\\\\n",
    "u_{1}=u_0+h\\varphi(t_0,u_0),\\\\\n",
    "u_{n+1}=u_n+\\frac{h}{2}\\Bigl(3\\varphi(t_n,u_n)-\\varphi(t_{n-1},u_{n-1})\\Bigr)& n=1,2,3,4,5,\\dots  N-1\n",
    "\\end{cases}\n",
    "$$"
   ]
  },
  {
   "cell_type": "code",
   "execution_count": 7,
   "metadata": {
    "colab": {
     "autoexec": {
      "startup": false,
      "wait_interval": 0
     }
    },
    "colab_type": "code",
    "id": "g38fKrIgSiBQ"
   },
   "outputs": [],
   "source": [
    "def AB2(phi,tt):\n",
    "    uu = [y0]\n",
    "    uu.append(sol_exacte(tt[1]))\n",
    "    for i in range(1,N):\n",
    "        k1 = h * phi( tt[i], uu[i] )\n",
    "        k2 = h * phi( tt[i-1], uu[i-1] )\n",
    "        uu.append( uu[i] + (3.*k1-k2) /2.0 )\n",
    "    return uu"
   ]
  },
  {
   "cell_type": "markdown",
   "metadata": {
    "colab_type": "text",
    "id": "nI8swyc6RxIR"
   },
   "source": [
    "**Schéma de Adam-Bashforth d'ordre 3:**\n",
    "$$\n",
    "\\begin{cases}\n",
    "u_0=y_0,\\\\\n",
    "u_{1}=u_0+h\\varphi(t_0,u_0),\\\\\n",
    "u_{2}=u_1+\\frac{h}{2}\\Bigl(3\\varphi(t_1,u_1)-\\varphi(t_{0},u_{0})\\Bigr),\\\\\n",
    "u_{n+1}=u_n+\\frac{h}{12}\\Bigl(23\\varphi(t_n,u_n)-16\\varphi(t_{n-1},u_{n-1})+5\\varphi(t_{n-2},u_{n-2})\\Bigr)& n=2,3,4,5,\\dots  N-1\n",
    "\\end{cases}\n",
    "$$"
   ]
  },
  {
   "cell_type": "code",
   "execution_count": 8,
   "metadata": {
    "colab": {
     "autoexec": {
      "startup": false,
      "wait_interval": 0
     }
    },
    "colab_type": "code",
    "id": "3ymFHJHrSkOh"
   },
   "outputs": [],
   "source": [
    "def AB3(phi,tt):\n",
    "    uu = [y0]\n",
    "    uu.append(sol_exacte(tt[1]))\n",
    "    uu.append(sol_exacte(tt[2]))\n",
    "    for i in range(2,N):\n",
    "        k1 = h * phi( tt[i], uu[i] )\n",
    "        k2 = h * phi( tt[i-1], uu[i-1] )\n",
    "        k3 = h * phi( tt[i-2], uu[i-2] )\n",
    "        uu.append( uu[i] + (23.*k1-16.*k2+5.*k3) /12.0 )\n",
    "    return uu"
   ]
  },
  {
   "cell_type": "markdown",
   "metadata": {
    "colab_type": "text",
    "id": "awcWzBp7SXvQ"
   },
   "source": [
    "**Schéma de Adam-Bashforth d'ordre 4:**\n",
    "$$\n",
    "\\begin{cases}\n",
    "u_0=y_0,\\\\\n",
    "u_{1}=u_0+h\\varphi(t_0,u_0),\\\\\n",
    "u_{2}=u_1+\\frac{h}{2}\\Bigl(3\\varphi(t_1,u_1)-\\varphi(t_{0},u_{0})\\Bigr),\\\\\n",
    "u_{3}=u_2+\\frac{h}{12}\\Bigl(23\\varphi(t_2,u_2)-16\\varphi(t_{1},u_{1})+5\\varphi(t_{0},u_{0})\\Bigr),\\\\\n",
    "u_{n+1}=u_n+\\frac{h}{24}\\Bigl(55\\varphi(t_n,u_n)-59\\varphi(t_{n-1},u_{n-1})+37\\varphi(t_{n-2},u_{n-2})-9\\varphi(t_{n-3},u_{n-3})\\Bigr)& n=3,4,5,\\dots  N-1\n",
    "\\end{cases}\n",
    "$$"
   ]
  },
  {
   "cell_type": "code",
   "execution_count": 9,
   "metadata": {
    "colab": {
     "autoexec": {
      "startup": false,
      "wait_interval": 0
     }
    },
    "colab_type": "code",
    "id": "-r1BaNeLTrHq"
   },
   "outputs": [],
   "source": [
    "def AB4(phi,tt):\n",
    "    uu = [y0]\n",
    "    uu.append(sol_exacte(tt[1]))\n",
    "    uu.append(sol_exacte(tt[2]))\n",
    "    uu.append(sol_exacte(tt[3]))\n",
    "    for i in range(3,N):\n",
    "        k1 = h * phi( tt[i], uu[i] )\n",
    "        k2 = h * phi( tt[i-1], uu[i-1] )\n",
    "        k3 = h * phi( tt[i-2], uu[i-2] )\n",
    "        k4 = h * phi( tt[i-3], uu[i-3] )\n",
    "        uu.append( uu[i] + (55.*k1-59.*k2+37.*k3-9.*k4) /24.0 )\n",
    "    return uu"
   ]
  },
  {
   "cell_type": "markdown",
   "metadata": {
    "colab_type": "text",
    "id": "heLmvMe_S0y6"
   },
   "source": [
    "**Schéma de Adam-Bashforth d'ordre 5:**\n",
    "$$\n",
    "\\begin{cases}\n",
    "u_0=y_0,\\\\\n",
    "u_{1}=u_0+h\\varphi(t_0,u_0),\\\\\n",
    "u_{2}=u_1+\\frac{h}{2}\\Bigl(3\\varphi(t_1,u_1)-\\varphi(t_{0},u_{0})\\Bigr),\\\\\n",
    "u_{3}=u_2+\\frac{h}{12}\\Bigl(23\\varphi(t_2,u_2)-16\\varphi(t_{1},u_{1})+5\\varphi(t_{0},u_{0})\\Bigr),\\\\\n",
    "u_{4}=u_3+\\frac{h}{24}\\Bigl(55\\varphi(t_3,u_3)-59\\varphi(t_{2},u_{2})+37\\varphi(t_{1},u_{1})-9\\varphi(t_{0},u_{0})\\Bigr),\\\\\n",
    "u_{n+1}=u_n+\\frac{h}{720}\\Bigl(1901\\varphi(t_n,u_n)-2774\\varphi(t_{n-1},u_{n-1})+2616\\varphi(t_{n-2},u_{n-2})-1274\\varphi(t_{n-3},u_{n-3})+251\\varphi(t_{n-4},u_{n-4})\\Bigr)& n=4,5,\\dots  N-1\n",
    "\\end{cases}\n",
    "$$"
   ]
  },
  {
   "cell_type": "code",
   "execution_count": 10,
   "metadata": {
    "colab": {
     "autoexec": {
      "startup": false,
      "wait_interval": 0
     }
    },
    "colab_type": "code",
    "id": "yPXMx8CITt4C"
   },
   "outputs": [],
   "source": [
    "def AB5(phi,tt):\n",
    "    uu = [y0]\n",
    "    uu.append(sol_exacte(tt[1]))\n",
    "    uu.append(sol_exacte(tt[2]))\n",
    "    uu.append(sol_exacte(tt[3]))\n",
    "    uu.append(sol_exacte(tt[4]))\n",
    "    for i in range(4,N):\n",
    "        k1 = h * phi( tt[i], uu[i] )\n",
    "        k2 = h * phi( tt[i-1], uu[i-1] )\n",
    "        k3 = h * phi( tt[i-2], uu[i-2] )\n",
    "        k4 = h * phi( tt[i-3], uu[i-3] )\n",
    "        k5 = h * phi( tt[i-4], uu[i-4] )\n",
    "        uu.append( uu[i] + (1901.*k1-2774.*k2+2616.*k3-1274.*k4+251*k5) /720.0 )\n",
    "    return uu"
   ]
  },
  {
   "cell_type": "markdown",
   "metadata": {
    "colab_type": "text",
    "id": "OldEmxFfTJfq"
   },
   "source": [
    "**Schéma de Nylström d'ordre 2:**\n",
    "$$\n",
    "\\begin{cases}\n",
    "u_0=y_0,\\\\\n",
    "u_{1}=u_0+h\\varphi(t_0,u_0),\\\\\n",
    "u_{n+1}=u_{n-1}+2h\\varphi(t_{n},u_{n})& n=1,2,3,4,5,\\dots  N-1\n",
    "\\end{cases}\n",
    "$$"
   ]
  },
  {
   "cell_type": "code",
   "execution_count": 11,
   "metadata": {
    "colab": {
     "autoexec": {
      "startup": false,
      "wait_interval": 0
     }
    },
    "colab_type": "code",
    "id": "BCR9Z7VzTxEN"
   },
   "outputs": [],
   "source": [
    "def N2(phi,tt):\n",
    "    uu = [y0]\n",
    "    uu.append(sol_exacte(tt[1]))\n",
    "    for i in range(1,N):\n",
    "        k1 = h * phi( tt[i], uu[i] )\n",
    "        uu.append( uu[i-1] + 2.0*k1 )\n",
    "    return uu"
   ]
  },
  {
   "cell_type": "markdown",
   "metadata": {
    "colab_type": "text",
    "id": "dADQEhyYTVQz"
   },
   "source": [
    "**Schéma de Nylström d'ordre 3:**\n",
    "$$\n",
    "\\begin{cases}\n",
    "u_0=y_0,\\\\\n",
    "u_{1}=u_0+h\\varphi(t_0,u_0),\\\\\n",
    "u_{2}=u_{0}+2h\\varphi(t_{1},u_{1}),\\\\\n",
    "u_{n+1}=u_{n-1}+\\frac{h}{3}\\Bigl(7\\varphi(t_{n},u_{n})-2\\varphi(t_{n-1},u_{n-1})+\\varphi(t_{n-2},u_{n-2})\\Bigr)& n=2,3,4,5,\\dots  N-1\n",
    "\\end{cases}\n",
    "$$"
   ]
  },
  {
   "cell_type": "code",
   "execution_count": 12,
   "metadata": {
    "colab": {
     "autoexec": {
      "startup": false,
      "wait_interval": 0
     }
    },
    "colab_type": "code",
    "id": "bS1FABgRTzdC"
   },
   "outputs": [],
   "source": [
    "def N3(phi,tt):\n",
    "    uu = [y0]\n",
    "    uu.append(sol_exacte(tt[1]))\n",
    "    uu.append(sol_exacte(tt[2]))\n",
    "    for i in range(2,N):\n",
    "        k1 = h * phi( tt[i], uu[i] )\n",
    "        k2 = h * phi( tt[i-1], uu[i-1] )\n",
    "        k3 = h * phi( tt[i-2], uu[i-2] )\n",
    "        uu.append( uu[i-1] + (7.*k1-2.*k2+k3)/3. )\n",
    "    return uu"
   ]
  },
  {
   "cell_type": "markdown",
   "metadata": {
    "colab_type": "text",
    "id": "LsgdqQnfTf66"
   },
   "source": [
    "**Schéma de Nylström d'ordre 4:**\n",
    "$$\n",
    "\\begin{cases}\n",
    "u_0=y_0,\\\\\n",
    "u_{1}=u_0+h\\varphi(t_0,u_0),\\\\\n",
    "u_{2}=u_{0}+2h\\varphi(t_{1},u_{1}),\\\\\n",
    "u_{3}=u_{1}+\\frac{h}{3}\\Bigl(7\\varphi(t_{2},u_{2})-2\\varphi(t_{1},u_{1})+\\varphi(t_{0},u_{0})\\Bigr),\\\\\n",
    "u_{n+1}=u_{n-1}+\\frac{h}{3}\\Bigl(8\\varphi(t_{n},u_{n})-5\\varphi(t_{n-1},u_{n-1})+4\\varphi(t_{n-2},u_{n-2})-\\varphi(t_{n-3},u_{n-3})\\Bigr)& n=3,4,5,\\dots  N-1\n",
    "\\end{cases}\n",
    "$$"
   ]
  },
  {
   "cell_type": "code",
   "execution_count": 13,
   "metadata": {
    "colab": {
     "autoexec": {
      "startup": false,
      "wait_interval": 0
     }
    },
    "colab_type": "code",
    "id": "dbDTaW5LUcss"
   },
   "outputs": [],
   "source": [
    "def N4(phi,tt):\n",
    "    uu = [y0]\n",
    "    uu.append(sol_exacte(tt[1]))\n",
    "    uu.append(sol_exacte(tt[2]))\n",
    "    uu.append(sol_exacte(tt[3]))\n",
    "    for i in range(3,N):\n",
    "        k1 = h * phi( tt[i], uu[i] )\n",
    "        k2 = h * phi( tt[i-1], uu[i-1] )\n",
    "        k3 = h * phi( tt[i-2], uu[i-2] )\n",
    "        k4 = h * phi( tt[i-3], uu[i-3] )\n",
    "        uu.append( uu[i-1] + (8.*k1-5.*k2+4.*k3-k4)/3. )\n",
    "    return uu"
   ]
  },
  {
   "cell_type": "markdown",
   "metadata": {
    "colab_type": "text",
    "id": "_50Xo95mT9tC"
   },
   "source": [
    "**Schéma de Runke-Kutta RK4:**\n",
    "$$\\begin{cases}\n",
    "u_0=y(t_0)=y_0,\\\\\n",
    "\\tilde u_{n+1/2}=u_n+\\frac{h}{2} \\varphi(t_{n},u_{n}),\\\\\n",
    "\\check u_{n+1/2}=u_n+\\frac{h}{2} \\varphi(t_{n}+\\frac{h}{2},\\tilde u_{n+1/2}),\\\\\n",
    "\\hat u_{n+1}=u_n+h\\varphi(t_{n+1},\\check u_{n+1/2}),\\\\\n",
    "u_{n+1}=u_n+\\frac{h}{6}\\left(\\varphi(t_{n},u_{n})+2\\varphi(t_{n}+\\frac{h}{2},\\tilde u_{n+1/2} )+2\\varphi(t_{n}+\\frac{h}{2}, \\check u_{n+1/2})+\\varphi(t_{n+1},\\hat u_{n+1}  \\right)& n=0,1,2,\\dots  N-1\n",
    "\\end{cases}\n",
    "$$"
   ]
  },
  {
   "cell_type": "code",
   "execution_count": 14,
   "metadata": {
    "colab": {
     "autoexec": {
      "startup": false,
      "wait_interval": 0
     }
    },
    "colab_type": "code",
    "id": "rbRn1INwGY-8"
   },
   "outputs": [],
   "source": [
    "def RK4(phi,tt):\n",
    "    uu = [y0]\n",
    "    for i in range(N):\n",
    "        k1 = h * phi( tt[i], uu[i] )\n",
    "        k2 = h * phi( tt[i]+h/2. , uu[i]+k1/2. )\n",
    "        k3 = h * phi( tt[i]+h/2. , uu[i]+k2/2. )\n",
    "        k4 = h * phi( tt[i+1]    , uu[i]+k3 )\n",
    "        uu.append( uu[i] + (k1+2.0*k2+2.0*k3+k4) /6.0 )\n",
    "    return uu"
   ]
  },
  {
   "cell_type": "markdown",
   "metadata": {},
   "source": [
    "## Schémas implicites"
   ]
  },
  {
   "cell_type": "markdown",
   "metadata": {
    "colab_type": "text",
    "id": "y69SGZjfIDo9"
   },
   "source": [
    "**Schéma d'Euler régressif :**\n",
    "$$\n",
    "\\begin{cases}\n",
    "u_0=y_0,\\\\\n",
    "u_{n+1}=u_n+h\\varphi(t_{n+1},u_{n+1})& n=0,1,2,\\dots  N-1\n",
    "\\end{cases}\n",
    "$$\n",
    "\n",
    "Attention : $u_{n+1}$ est solution de l'équation $x=u_n+h\\varphi(t_{n+1},x)$, c'est-à-dire un zéro de la fonction (en générale non linéaire) $\\lambda \\colon x\\mapsto -x+u_n+h\\varphi(t_{n+1},x)$."
   ]
  },
  {
   "cell_type": "code",
   "execution_count": 15,
   "metadata": {
    "colab": {
     "autoexec": {
      "startup": false,
      "wait_interval": 0
     }
    },
    "colab_type": "code",
    "id": "_Bgo6mNyIQgu"
   },
   "outputs": [],
   "source": [
    "def euler_regressif(phi,tt):\n",
    "    uu = [y0]\n",
    "    for i in range(N):\n",
    "        temp = fsolve(lambda x: -x+uu[i]+h*phi(tt[i+1],x), uu[i])\n",
    "        uu.append(temp)\n",
    "    return uu"
   ]
  },
  {
   "cell_type": "markdown",
   "metadata": {
    "colab_type": "text",
    "id": "23PyYGzhQwuo"
   },
   "source": [
    "**Schéma de Crank-Nicolson :**\n",
    "$$\n",
    "\\begin{cases}\n",
    "u_0=y_0,\\\\\n",
    "u_{n+1}=u_n+\\frac{h}{2}\\Bigl(\\varphi(t_n,u_n)+\\varphi(t_{n+1},u_{n+1})\\Bigr)& n=0,1,2,\\dots  N-1\n",
    "\\end{cases}\n",
    "$$\n",
    "\n",
    "Attention : $u_{n+1}$ est solution de l'équation $x=u_n+\\frac{h}{2}(\\varphi(t_n,u_n)+\\varphi(t_{n+1},x))$, c'est-à-dire un zéro de la fonction (en générale non linéaire) $\\lambda \\colon x\\mapsto -x+u_n+\\frac{h}{2}(\\varphi(t_n,u_n)+\\varphi(t_{n+1},x))$."
   ]
  },
  {
   "cell_type": "code",
   "execution_count": 16,
   "metadata": {},
   "outputs": [],
   "source": [
    "def CN(phi,tt):\n",
    "    uu = [y0]\n",
    "    for i in range(len(tt)-1):\n",
    "        temp = fsolve(lambda x: -x+uu[i]+0.5*h*( phi(tt[i+1],x)+phi(tt[i],uu[i]) ), uu[i])\n",
    "        uu.append(temp)\n",
    "    return uu"
   ]
  },
  {
   "cell_type": "markdown",
   "metadata": {
    "colab_type": "text",
    "id": "23PyYGzhQwuo"
   },
   "source": [
    "**Schéma de AM-2 :**\n",
    "$$\n",
    "\\begin{cases}\n",
    "u_0=y_0,\\\\\n",
    "u_1=u_0+\\frac{h}{2}\\Bigl(\\varphi(t_1,u_1)+\\varphi(t_{0},u_{0})\\Bigr),\\\\\n",
    "u_{n+1}=u_n+h\\Bigl(5\\varphi(t_{n+1},u_{n+1})+8\\varphi(t_n,u_n)-\\varphi(t_{n-1},u_{n-1})\\Bigr)& n=1,2,\\dots  N-1\n",
    "\\end{cases}\n",
    "$$"
   ]
  },
  {
   "cell_type": "code",
   "execution_count": 17,
   "metadata": {},
   "outputs": [],
   "source": [
    "def AM2(phi,tt):\n",
    "    uu = [y0]\n",
    "    uu.append(sol_exacte(tt[1]))\n",
    "    for i in range(1,N):\n",
    "        temp = fsolve(lambda x: -x+uu[i]+h*( 5.*phi(tt[i+1],x)+8.*phi(tt[i],uu[i])-phi(tt[i-1],uu[i-1]) )/12., uu[i])\n",
    "        uu.append(temp)\n",
    "    return uu"
   ]
  },
  {
   "cell_type": "markdown",
   "metadata": {
    "colab_type": "text",
    "id": "23PyYGzhQwuo"
   },
   "source": [
    "**Schéma de AM-3 :**\n",
    "$$\n",
    "\\begin{cases}\n",
    "u_0=y_0,\\\\\n",
    "u_1=u_0+\\frac{h}{2}\\Bigl(\\varphi(t_1,u_1)+\\varphi(t_{0},u_{0})\\Bigr),\\\\\n",
    "u_{2}=u_n+h\\Bigl(5\\varphi(t_{2},u_{2})+8\\varphi(t_1,u_1)-\\varphi(t_{0},u_{0})\\Bigr),\\\\\n",
    "u_{n+1}=u_n+h\\Bigl(9\\varphi(t_{n+1},u_{n+1})+19\\varphi(t_n,u_n)-5\\varphi(t_{n-1},u_{n-1})+\\varphi(t_{n-2},u_{n-2})\\Bigr)& n=2,3,\\dots  N-1\n",
    "\\end{cases}\n",
    "$$"
   ]
  },
  {
   "cell_type": "code",
   "execution_count": 18,
   "metadata": {},
   "outputs": [],
   "source": [
    "def AM3(phi,tt):\n",
    "\tuu = [y0]\n",
    "\tuu.append(sol_exacte(tt[1]))\n",
    "\tuu.append(sol_exacte(tt[2]))\n",
    "\tfor i in range(2,N):\n",
    "\t\ttemp = fsolve(lambda x: -x+uu[i]+h*( 9.*phi(tt[i+1],x)+19.*phi(tt[i],uu[i])-5.*phi(tt[i-1],uu[i-1])+phi(tt[i-2],uu[i-2]) )/24., uu[i])\n",
    "\t\tuu.append(temp)\n",
    "\treturn uu"
   ]
  },
  {
   "cell_type": "markdown",
   "metadata": {
    "colab_type": "text",
    "id": "23PyYGzhQwuo"
   },
   "source": [
    "**Schéma de AM-4 :**\n",
    "$$\n",
    "\\begin{cases}\n",
    "u_0=y_0,\\\\\n",
    "u_1=u_0+\\frac{h}{2}\\Bigl(\\varphi(t_1,u_1)+\\varphi(t_{0},u_{0})\\Bigr),\\\\\n",
    "u_{2}=u_1+h\\Bigl(5\\varphi(t_{2},u_{2})+8\\varphi(t_1,u_1)-\\varphi(t_{0},u_{0})\\Bigr),\\\\\n",
    "u_{3}=u_2+h\\Bigl(9\\varphi(t_{3},u_{3})+19\\varphi(t_2,u_2)-5\\varphi(t_{1},u_{1})+\\varphi(t_{0},u_{0})\\Bigr),\\\\\n",
    "u_{n+1}=u_n+h\\Bigl(251\\varphi(t_{n+1},u_{n+1})+646\\varphi(t_n,u_n)-264\\varphi(t_{n-1},u_{n-1})+106\\varphi(t_{n-2},u_{n-2})-19\\varphi(t_{n-3},u_{n-3})\\Bigr)& n=3,4,\\dots  N-1\n",
    "\\end{cases}\n",
    "$$"
   ]
  },
  {
   "cell_type": "code",
   "execution_count": 19,
   "metadata": {},
   "outputs": [],
   "source": [
    "def AM4(phi,tt):\n",
    "\tuu = [y0]\n",
    "\tuu.append(sol_exacte(tt[1]))\n",
    "\tuu.append(sol_exacte(tt[2]))\n",
    "\tuu.append(sol_exacte(tt[3]))\n",
    "\tfor i in range(3,N):\n",
    "\t\ttemp = fsolve(lambda x: -x+uu[i]+h*( 251.*phi(tt[i+1],x)+646.*phi(tt[i],uu[i])-264.*phi(tt[i-1],uu[i-1])+106.*phi(tt[i-2],uu[i-2])-19.*phi(tt[i-3],uu[i-3]) )/720., uu[i])\n",
    "\t\tuu.append(temp)\n",
    "\treturn uu"
   ]
  },
  {
   "cell_type": "code",
   "execution_count": 37,
   "metadata": {},
   "outputs": [],
   "source": [
    "def AM5(phi,tt):\n",
    "\tuu = [y0]\n",
    "\tuu.append(sol_exacte(tt[1]))\n",
    "\tuu.append(sol_exacte(tt[2]))\n",
    "\tuu.append(sol_exacte(tt[3]))\n",
    "\tuu.append(sol_exacte(tt[4]))\n",
    "\tfor i in range(4,N):\n",
    "\t\ttemp = fsolve(lambda x: -x+uu[i]+h*( 475.*phi(tt[i+1],x)+1427.*phi(tt[i],uu[i])-798.*phi(tt[i-1],uu[i-1])+482.*phi(tt[i-2],uu[i-2])-173.*phi(tt[i-3],uu[i-3])+27.*phi(tt[i-4],uu[i-4]))/1440., uu[i])\n",
    "\t\tuu.append(temp)\n",
    "\treturn uu"
   ]
  },
  {
   "cell_type": "markdown",
   "metadata": {
    "colab_type": "text",
    "id": "23PyYGzhQwuo"
   },
   "source": [
    "**Schéma BDF2 :**\n",
    "$$\n",
    "\\begin{cases}\n",
    "u_0=y_0,\\\\\n",
    "u_1=u_0+h\\varphi(t_1,u_1),\\\\\n",
    "u_{n+1}=\\frac{4}{3}u_n-\\frac{1}{3}u_{n-1}+\\frac{2}{3}\\varphi(t_{n+1},u_{n+1})& n=1,2,\\dots  N-1\n",
    "\\end{cases}\n",
    "$$"
   ]
  },
  {
   "cell_type": "code",
   "execution_count": 38,
   "metadata": {},
   "outputs": [],
   "source": [
    "def BDF2(phi,tt):\n",
    "\tuu = [y0]\n",
    "\tuu.append(sol_exacte(tt[1]))\n",
    "\tfor i in range(1,N):\n",
    "\t\ttemp = fsolve(lambda x: -x+4./3.*uu[i]-1./3.*uu[i-1] + 2./3.*h*phi(tt[i+1],x) , uu[i])\n",
    "\t\tuu.append(temp)\n",
    "\treturn uu    "
   ]
  },
  {
   "cell_type": "markdown",
   "metadata": {
    "colab_type": "text",
    "id": "23PyYGzhQwuo"
   },
   "source": [
    "**Schéma BDF3 :**\n",
    "$$\n",
    "\\begin{cases}\n",
    "u_0=y_0,\\\\\n",
    "u_1=u_0+h\\varphi(t_1,u_1),\\\\\n",
    "u_{2}=\\frac{4}{3}u_1-\\frac{1}{3}u_{0}+\\frac{2}{3}\\varphi(t_{2},u_{2}),\\\\\n",
    "u_{n+1}=\\frac{4}{3}u_n-\\frac{1}{3}u_{n-1}+\\frac{2}{3}\\varphi(t_{n+1},u_{n+1})& n=2,3,\\dots  N-1\n",
    "\\end{cases}\n",
    "$$"
   ]
  },
  {
   "cell_type": "code",
   "execution_count": 39,
   "metadata": {},
   "outputs": [],
   "source": [
    "def BDF3(phi,tt):\n",
    "\tuu = [y0]\n",
    "\tuu.append(sol_exacte(tt[1]))\n",
    "\tuu.append(sol_exacte(tt[2]))\n",
    "\tfor i in range(2,N):\n",
    "\t\ttemp = fsolve(lambda x: -x+18./11.*uu[i]-9./11.*uu[i-1] + 2./11.*uu[i-2]+6./11.*h*phi(tt[i+1],x) , uu[i])\n",
    "\t\tuu.append(temp)\n",
    "\treturn uu"
   ]
  },
  {
   "cell_type": "markdown",
   "metadata": {},
   "source": [
    "## Schémas predicteur-correcteur"
   ]
  },
  {
   "cell_type": "markdown",
   "metadata": {
    "colab_type": "text",
    "id": "p4f0txAsIwNG"
   },
   "source": [
    "**Schéma d'Euler modifié:**\n",
    "$$\n",
    "\\begin{cases}\n",
    "u_0=y_0,\\\\\n",
    "\\tilde u = u_n+\\frac{h}{2}\\varphi(t_n,u_n),\\\\\n",
    "u_{n+1}=u_n+h\\varphi\\left(t_n+\\frac{h}{2},\\tilde u\\right)& n=0,1,2,\\dots  N-1\n",
    "\\end{cases}\n",
    "$$"
   ]
  },
  {
   "cell_type": "code",
   "execution_count": 40,
   "metadata": {
    "colab": {
     "autoexec": {
      "startup": false,
      "wait_interval": 0
     }
    },
    "colab_type": "code",
    "id": "O5rOYvtPI7TO"
   },
   "outputs": [],
   "source": [
    "def euler_modifie(phi,tt):\n",
    "    uu = [y0]\n",
    "    for i in range(N):\n",
    "        k1 = h * phi( tt[i], uu[i] )\n",
    "        uu.append( uu[i]+h*phi(tt[i]+h/2.,uu[i]+k1/2.) )\n",
    "    return uu"
   ]
  },
  {
   "cell_type": "markdown",
   "metadata": {
    "colab_type": "text",
    "id": "23PyYGzhQwuo"
   },
   "source": [
    "**Schéma de Heun:**\n",
    "$$\n",
    "\\begin{cases}\n",
    "u_0=y_0,\\\\\n",
    "\\tilde u = u_n+h\\varphi(t_n,u_n)\\\\\n",
    "u_{n+1}=u_n+\\frac{h}{2}\\Bigl(\\varphi(t_n,u_n)+\\varphi(t_{n+1},\\tilde u)\\Bigr)& n=0,1,2,\\dots  N-1\n",
    "\\end{cases}\n",
    "$$"
   ]
  },
  {
   "cell_type": "code",
   "execution_count": 41,
   "metadata": {
    "colab": {
     "autoexec": {
      "startup": false,
      "wait_interval": 0
     }
    },
    "colab_type": "code",
    "id": "1ewZyxhHRYxg"
   },
   "outputs": [],
   "source": [
    "def heun(phi,tt):\n",
    "    uu = [y0]\n",
    "    for i in range(N):\n",
    "        k1 = h * phi( tt[i], uu[i] )\n",
    "        k2 = h * phi( tt[i+1], uu[i] + k1  )\n",
    "        uu.append( uu[i] + (k1+k2) /2.0 )\n",
    "    return uu"
   ]
  },
  {
   "cell_type": "markdown",
   "metadata": {
    "colab_type": "text",
    "id": "23PyYGzhQwuo"
   },
   "source": [
    "**Schéma AM-2 AB-1 :**\n",
    "$$\n",
    "\\begin{cases}\n",
    "u_0=y_0,\\\\\n",
    "u_1=u_0+h\\varphi(t_0,u_0),\\\\\n",
    "\\tilde u=u_n+h\\varphi(t_n,u_n),\\\\\n",
    "u_{n+1}=u_n+\\frac{h}{12}\\Bigl(5\\varphi(t_{n+1},\\tilde u)+8\\varphi(t_n,u_n)-\\varphi(t_{n-1},u_{n-1})\\Bigr)& n=1,2,\\dots  N-1\n",
    "\\end{cases}\n",
    "$$"
   ]
  },
  {
   "cell_type": "code",
   "execution_count": 42,
   "metadata": {},
   "outputs": [],
   "source": [
    "def AM2AB1(phi,tt):\n",
    "    uu = [y0]\n",
    "    uu.append(sol_exacte(tt[1]))\n",
    "    for i in range(1,N):\n",
    "        pred = uu[i] + h*phi(tt[i],uu[i])\n",
    "        uu.append(uu[i]+h*(5.*phi(tt[i+1],pred)+8.*phi(tt[i],uu[i])-phi(tt[i-1],uu[i-1]))/12.)\n",
    "    return uu"
   ]
  },
  {
   "cell_type": "markdown",
   "metadata": {
    "colab_type": "text",
    "id": "23PyYGzhQwuo"
   },
   "source": [
    "**Schéma AM-3 AB-2 :**\n",
    "$$\n",
    "\\begin{cases}\n",
    "u_0=y_0,\\\\\n",
    "u_1=u_0+h\\varphi(t_0,u_0),\\\\\n",
    "u_2=u_0+\\frac{h}{2}(3\\varphi(t_1,u_1)-\\varphi(t_{0},u_{0})),\\\\\n",
    "\\tilde u=u_n+\\frac{h}{2}(3\\varphi(t_n,u_n)-\\varphi(t_{n-1},u_{n-1})),\\\\\n",
    "u_{n+1}=u_n+\\frac{h}{24}\\Bigl(9\\varphi(t_{n+1},\\tilde u)+19\\varphi(t_n,u_n)-5\\varphi(t_{n-1},u_{n-1})+\\varphi(t_{n-2},u_{n-2})\\Bigr)& n=2,3,\\dots  N-1\n",
    "\\end{cases}\n",
    "$$"
   ]
  },
  {
   "cell_type": "code",
   "execution_count": 43,
   "metadata": {},
   "outputs": [],
   "source": [
    "def AM3AB2(phi,tt):\n",
    "    uu = [y0]\n",
    "    uu.append(sol_exacte(tt[1]))\n",
    "    uu.append(sol_exacte(tt[2]))\n",
    "    for i in range(2,N):\n",
    "        k1 = h * phi( tt[i], uu[i] )\n",
    "        k2 = h * phi( tt[i-1], uu[i-1] )\n",
    "        pred = uu[i] + (3.*k1-k2) /2.0\n",
    "        uu.append(uu[i]+h*(5.*phi(tt[i+1],pred)+8.*phi(tt[i],uu[i])-phi(tt[i-1],uu[i-1]))/12.)\n",
    "    return uu"
   ]
  },
  {
   "cell_type": "code",
   "execution_count": 44,
   "metadata": {},
   "outputs": [],
   "source": [
    "def AM4AB2(phi,tt):\n",
    "\tuu = [y0]\n",
    "\tuu.append(sol_exacte(tt[1]))\n",
    "\tuu.append(sol_exacte(tt[2]))\n",
    "\tuu.append(sol_exacte(tt[3]))\n",
    "\tfor i in range(3,N):\n",
    "\t\tk1 = h * phi( tt[i], uu[i] )\n",
    "\t\tk2 = h * phi( tt[i-1], uu[i-1] )\n",
    "\t\tpred = uu[i] + (3.*k1-k2) /2.0\n",
    "\t\tuu.append(uu[i]+h*( 251.*phi(tt[i+1],pred)+646.*phi(tt[i],uu[i])-264.*phi(tt[i-1],uu[i-1])+106.*phi(tt[i-2],uu[i-2])-19.*phi(tt[i-3],uu[i-3]) )/720.)\n",
    "\treturn uu\n",
    "\t \n",
    "def AM4AB3(phi,tt):\n",
    "\tuu = [y0]\n",
    "\tuu.append(sol_exacte(tt[1]))\n",
    "\tuu.append(sol_exacte(tt[2]))\n",
    "\tuu.append(sol_exacte(tt[3]))\n",
    "\tfor i in range(3,N):\n",
    "\t\tk1 = h * phi( tt[i], uu[i] )\n",
    "\t\tk2 = h * phi( tt[i-1], uu[i-1] )\n",
    "\t\tk3 = h * phi( tt[i-2], uu[i-2] )\n",
    "\t\tpred = uu[i] + (23.*k1-16.*k2+5.*k3) /12.0\n",
    "\t\tuu.append(uu[i]+h*( 251.*phi(tt[i+1],pred)+646.*phi(tt[i],uu[i])-264.*phi(tt[i-1],uu[i-1])+106.*phi(tt[i-2],uu[i-2])-19.*phi(tt[i-3],uu[i-3]) )/720.)\n",
    "\treturn uu\n",
    "\t \n",
    "def AM4AB4(phi,tt):\n",
    "\tuu = [y0]\n",
    "\tuu.append(sol_exacte(tt[1]))\n",
    "\tuu.append(sol_exacte(tt[2]))\n",
    "\tuu.append(sol_exacte(tt[3]))\n",
    "\tfor i in range(3,N):\n",
    "\t\tk1 = h * phi( tt[i], uu[i] )\n",
    "\t\tk2 = h * phi( tt[i-1], uu[i-1] )\n",
    "\t\tk3 = h * phi( tt[i-2], uu[i-2] )\n",
    "\t\tk4 = h * phi( tt[i-3], uu[i-3] )\n",
    "\t\tpred = uu[i] + (55.*k1-59.*k2+37.*k3-9.*k4) /24.0\n",
    "\t\tuu.append(uu[i]+h*( 251.*phi(tt[i+1],pred)+646.*phi(tt[i],uu[i])-264.*phi(tt[i-1],uu[i-1])+106.*phi(tt[i-2],uu[i-2])-19.*phi(tt[i-3],uu[i-3]) )/720.)\n",
    "\treturn uu\n"
   ]
  },
  {
   "cell_type": "markdown",
   "metadata": {},
   "source": [
    "## Calculs"
   ]
  },
  {
   "cell_type": "markdown",
   "metadata": {},
   "source": [
    "Pour chaque schéma, on calcule la solution approchée avec différentes valeurs de $h_k=1/N_k$, à savoir $1/2$, $1/4$, $1/8$, \\dots, $1/1024$ (ce qui correspond à différentes valeurs de $N_k=2^{k+1}$, à savoir $2$, $2^2$, $2^3$, ... $2^{10}$). On sauvegarde les valeurs de $h_k$ dans le vecteur `H`. \n",
    "\n",
    "Pour chaque valeur de $h_k$, on calcule le maximum de la valeur absolue de l'erreur et on sauvegarde toutes ces erreurs dans le vecteur `err_schema` de sort que `err_schema[k]` contient $e_k=\\max_{i=0,\\dots,N_k}|y(t_i)-u_{i}|$ avec $N_k=2^{k+1}$."
   ]
  },
  {
   "cell_type": "code",
   "execution_count": 45,
   "metadata": {},
   "outputs": [],
   "source": [
    "H = []\n",
    "\n",
    "err_ep   = []\n",
    "err_AB2  = []\n",
    "err_AB3  = []\n",
    "err_AB4  = []\n",
    "err_AB5  = []\n",
    "err_N2   = []\n",
    "err_N3   = []\n",
    "err_N4   = []\n",
    "err_RK4  = []\n",
    "\n",
    "err_er   = []\n",
    "err_CN   = []\n",
    "err_AM2  = []\n",
    "err_AM3  = []\n",
    "err_AM4  = []\n",
    "err_AM5  = []\n",
    "err_BDF2 = []\n",
    "err_BDF3 = []\n",
    "\n",
    "err_em   = []\n",
    "err_heun = []\n",
    "err_AM4AB2  = []\n",
    "err_AM4AB3  = []\n",
    "err_AM4AB4  = []\n",
    "\n",
    "for k in range(8):\n",
    "\tN = 2**(k+3)\n",
    "\th = (tfinal-t0)/N\n",
    "\tH.append(h)\n",
    "\ttt = [t0+i*h for i in range(N+1)]\n",
    "\tyy = [sol_exacte(t) for t in tt]\n",
    "\t# schemas explicites\n",
    "\tuu_ep   = euler_progressif(phi,tt)\n",
    "\tuu_AB2  = AB2(phi,tt)\n",
    "\tuu_AB3  = AB3(phi,tt)\n",
    "\tuu_AB4  = AB4(phi,tt)\n",
    "\tuu_AB5  = AB5(phi,tt)\n",
    "\tuu_N2   = N2(phi,tt)\n",
    "\tuu_N3   = N3(phi,tt)\n",
    "\tuu_N4   = N4(phi,tt)\n",
    "\tuu_RK4  = RK4(phi,tt)\n",
    "\t# schemas implicites\n",
    "\tuu_er   = euler_regressif(phi,tt)\n",
    "\tuu_CN   = CN(phi,tt)\n",
    "\tuu_AM2  = AM2(phi,tt)\n",
    "\tuu_AM3  = AM3(phi,tt)\n",
    "\tuu_AM4  = AM4(phi,tt)\n",
    "\tuu_AM5  = AM5(phi,tt)\n",
    "\tuu_BDF2 = BDF2(phi,tt)\n",
    "\tuu_BDF3 = BDF3(phi,tt)\n",
    "\t# schemas predictor-corrector\n",
    "\tuu_em   = euler_modifie(phi,tt)\n",
    "\tuu_heun = heun(phi,tt)\n",
    "\tuu_AM4AB2 = AM4AB2(phi,tt)\n",
    "\tuu_AM4AB3 = AM4AB3(phi,tt)\n",
    "\tuu_AM4AB4 = AM4AB4(phi,tt)\n",
    "\t\n",
    "\terr_ep.append(max([abs(uu_ep[i]-yy[i]) for i in range(N+1)]))\n",
    "\terr_AB2.append(max([abs(uu_AB2[i]-yy[i]) for i in range(N+1)]))\n",
    "\terr_AB3.append(max([abs(uu_AB3[i]-yy[i]) for i in range(N+1)]))\n",
    "\terr_AB4.append(max([abs(uu_AB4[i]-yy[i]) for i in range(N+1)]))\n",
    "\terr_AB5.append(max([abs(uu_AB5[i]-yy[i]) for i in range(N+1)]))\n",
    "\terr_N2.append(max([abs(uu_N2[i]-yy[i]) for i in range(N+1)]))\n",
    "\terr_N3.append(max([abs(uu_N3[i]-yy[i]) for i in range(N+1)]))\n",
    "\terr_N4.append(max([abs(uu_N4[i]-yy[i]) for i in range(N+1)]))\n",
    "\terr_RK4.append(max([abs(uu_RK4[i]-yy[i]) for i in range(N+1)]))\n",
    "\t\n",
    "\terr_er.append(max([abs(uu_er[i]-yy[i]) for i in range(N+1)]))\n",
    "\terr_CN.append(max([abs(uu_CN[i]-yy[i]) for i in range(N+1)]))\n",
    "\terr_AM2.append(max([abs(uu_AM2[i]-yy[i]) for i in range(N+1)]))\n",
    "\terr_AM3.append(max([abs(uu_AM3[i]-yy[i]) for i in range(N+1)]))\n",
    "\terr_AM4.append(max([abs(uu_AM4[i]-yy[i]) for i in range(N+1)]))\n",
    "\terr_AM5.append(max([abs(uu_AM5[i]-yy[i]) for i in range(N+1)]))\n",
    "\terr_BDF2.append(max([abs(uu_BDF2[i]-yy[i]) for i in range(N+1)]))\n",
    "\terr_BDF3.append(max([abs(uu_BDF3[i]-yy[i]) for i in range(N+1)]))\n",
    "\t\n",
    "\terr_em.append(max([abs(uu_em[i]-yy[i]) for i in range(N+1)]))\n",
    "\terr_heun.append(max([abs(uu_heun[i]-yy[i]) for i in range(N+1)]))\n",
    "\terr_AM4AB2.append(max([abs(uu_AM4AB2[i]-yy[i]) for i in range(N+1)]))\n",
    "\terr_AM4AB3.append(max([abs(uu_AM4AB3[i]-yy[i]) for i in range(N+1)]))\n",
    "\terr_AM4AB4.append(max([abs(uu_AM4AB4[i]-yy[i]) for i in range(N+1)]))"
   ]
  },
  {
   "cell_type": "markdown",
   "metadata": {
    "colab_type": "text",
    "id": "SnKKU27oGyQb"
   },
   "source": [
    "Pour estimer l'ordre de convergence on applique alors la formule\n",
    "$$\n",
    "p_k=\\frac{\\ln\\left| \\frac{e_k}{e_{k-1}} \\right|}{\\ln\\left| \\frac{h_k}{h_{k-1}} \\right|},\n",
    "\\qquad k=1,\\dots,10.\n",
    "$$\n",
    "On trouve ainsi la pente de la droite qui relie l'erreur au pas $k$ à l'erreur au pas $k+1$. \n",
    "Pour estimer la pente globale on utilise la fonction `polyfit` basée sur la régression linéaire. \t"
   ]
  },
  {
   "cell_type": "code",
   "execution_count": 46,
   "metadata": {
    "colab": {
     "autoexec": {
      "startup": false,
      "wait_interval": 0
     }
    },
    "colab_type": "code",
    "id": "ySox-VsNGt8p"
   },
   "outputs": [
    {
     "name": "stdout",
     "output_type": "stream",
     "text": [
      "Euler progressif 0.92\n",
      "AB2 1.92\n",
      "AB3 2.87\n",
      "AB4 3.82\n",
      "AB5 4.75\n",
      "N2 1.97\n",
      "N3 2.92\n",
      "N4 3.86\n",
      "RK4 3.95\n",
      "\n",
      "\n",
      "Euler retrograde 1.12\n",
      "CN 2.01\n",
      "AM2 2.95\n",
      "AM3 3.90\n",
      "AM4 4.85\n",
      "AM5 5.28\n",
      "BDF2 1.95\n",
      "BDF3 2.87\n",
      "\n",
      "\n",
      "Euler modifie 1.95\n",
      "Heun 1.95\n",
      "AM4AB2 2.86\n",
      "AM4AB3 3.82\n",
      "AM4AB4 4.80\n"
     ]
    }
   ],
   "source": [
    "print ('Euler progressif %1.2f' %(polyfit(log(H),log(err_ep), 1)[0]))\n",
    "print ('AB2 %1.2f' %(polyfit(log(H),log(err_AB2), 1)[0]))\n",
    "print ('AB3 %1.2f' %(polyfit(log(H),log(err_AB3), 1)[0]))\n",
    "print ('AB4 %1.2f' %(polyfit(log(H),log(err_AB4), 1)[0]))\n",
    "print ('AB5 %1.2f' %(polyfit(log(H),log(err_AB5), 1)[0]))\n",
    "print ('N2 %1.2f' %(polyfit(log(H),log(err_N2), 1)[0]))\n",
    "print ('N3 %1.2f' %(polyfit(log(H),log(err_N3), 1)[0]))\n",
    "print ('N4 %1.2f' %(polyfit(log(H),log(err_N4), 1)[0]))\n",
    "print ('RK4 %1.2f' %(polyfit(log(H),log(err_RK4), 1)[0]))\n",
    "print('\\n')\n",
    "print ('Euler retrograde %1.2f' %(polyfit(log(H),log(err_er), 1)[0]))\n",
    "print ('CN %1.2f' %(polyfit(log(H),log(err_CN), 1)[0]))\n",
    "print ('AM2 %1.2f' %(polyfit(log(H),log(err_AM2), 1)[0]))\n",
    "print ('AM3 %1.2f' %(polyfit(log(H),log(err_AM3), 1)[0]))\n",
    "print ('AM4 %1.2f' %(polyfit(log(H),log(err_AM4), 1)[0]))\n",
    "print ('AM5 %1.2f' %(polyfit(log(H),log(err_AM5), 1)[0]))\n",
    "print ('BDF2 %1.2f' %(polyfit(log(H),log(err_BDF2), 1)[0]))\n",
    "print ('BDF3 %1.2f' %(polyfit(log(H),log(err_BDF3), 1)[0]))\n",
    "print('\\n')\n",
    "print ('Euler modifie %1.2f' %(polyfit(log(H),log(err_em), 1)[0]))\n",
    "print ('Heun %1.2f' %(polyfit(log(H),log(err_heun), 1)[0]))\n",
    "print ('AM4AB2 %1.2f' %(polyfit(log(H),log(err_AM4AB2), 1)[0]))\n",
    "print ('AM4AB3 %1.2f' %(polyfit(log(H),log(err_AM4AB3), 1)[0]))\n",
    "print ('AM4AB4 %1.2f' %(polyfit(log(H),log(err_AM4AB4), 1)[0]))"
   ]
  },
  {
   "cell_type": "markdown",
   "metadata": {
    "colab_type": "text",
    "id": "4HPS2hE6G54k"
   },
   "source": [
    "Pour afficher l'ordre de convergence on utilise une échelle logarithmique : on représente $\\ln(h)$ sur l'axe des abscisses et $\\ln(\\text{err})$ sur l'axe des ordonnées. Le but de cette représentation est clair: si $\\text{err}=Ch^p$ alors $\\ln(\\text{err})=\\ln(C)+p\\ln(h)$. En échelle logarithmique, $p$ représente donc la pente de la ligne droite $\\ln(\\text{err})$."
   ]
  },
  {
   "cell_type": "code",
   "execution_count": 47,
   "metadata": {
    "colab": {
     "autoexec": {
      "startup": false,
      "wait_interval": 0
     },
     "base_uri": "https://localhost:8080/",
     "height": 3818,
     "output_extras": [
      {
       "item_id": 1
      },
      {
       "item_id": 2
      },
      {
       "item_id": 3
      },
      {
       "item_id": 4
      },
      {
       "item_id": 5
      },
      {
       "item_id": 6
      },
      {
       "item_id": 7
      },
      {
       "item_id": 8
      },
      {
       "item_id": 9
      },
      {
       "item_id": 10
      },
      {
       "item_id": 11
      }
     ]
    },
    "colab_type": "code",
    "executionInfo": {
     "elapsed": 2188,
     "status": "ok",
     "timestamp": 1520423878951,
     "user": {
      "displayName": "Gloria Faccanoni",
      "photoUrl": "//lh4.googleusercontent.com/-gY6sCpFtBJo/AAAAAAAAAAI/AAAAAAAABdo/a_W4-RMG5X0/s50-c-k-no/photo.jpg",
      "userId": "116371262733782746288"
     },
     "user_tz": -60
    },
    "id": "oz1tVYNtG4-3",
    "outputId": "9b89f5ec-83c5-4797-e057-8d6c20560051"
   },
   "outputs": [
    {
     "data": {
      "image/png": "[encoded data removed]",
      "text/plain": [
       "<matplotlib.figure.Figure at 0x7f865ee144e0>"
      ]
     },
     "metadata": {},
     "output_type": "display_data"
    },
    {
     "data": {
      "image/png": "[encoded data removed]",
      "text/plain": [
       "<matplotlib.figure.Figure at 0x7f865ee29828>"
      ]
     },
     "metadata": {},
     "output_type": "display_data"
    },
    {
     "data": {
      "image/png": "[encoded data removed]",
      "text/plain": [
       "<matplotlib.figure.Figure at 0x7f865f174ac8>"
      ]
     },
     "metadata": {},
     "output_type": "display_data"
    }
   ],
   "source": [
    "figure(1)\n",
    "loglog(H,err_ep, 'r-o',label='Euler Explicite')\n",
    "loglog(H,err_AB2, 'g-+',label='AB-2')\n",
    "loglog(H,err_AB3, 'c-D',label='AB-3')\n",
    "loglog(H,err_AB4, 'y-*',label='AB-4')\n",
    "loglog(H,err_AB5, 'r-.',label='AB-5')\n",
    "loglog(H,err_N2, 'y-*',label='N-2')\n",
    "loglog(H,err_N3, 'r-<',label='N-3')\n",
    "loglog(H,err_N4, 'b-+',label='N-4')\n",
    "loglog(H,err_RK4, 'g-o',label='RK4')\n",
    "xlabel('$\\ln(h)$')\n",
    "ylabel('$\\ln(e)$')\n",
    "title(\"Schemas explicites\")\n",
    "legend(bbox_to_anchor=(1.04,1),loc='upper left')\n",
    "grid(True)\n",
    "\n",
    "figure(2)\n",
    "loglog(H,err_er, 'r-o',label='Euler Implicite')\n",
    "loglog(H,err_CN, 'b-v',label='Crank-Nicolson')\n",
    "loglog(H,err_AM2, 'm->',label='AM-2')\n",
    "loglog(H,err_AM3, 'c-D',label='AM-3')\n",
    "loglog(H,err_AM4, 'g-+',label='AM-4')\n",
    "loglog(H,err_AM5, 'b->',label='AM-5')\n",
    "loglog(H,err_BDF2, 'y-*',label='BDF-2')\n",
    "loglog(H,err_BDF3, 'r-<',label='BDF-3')\n",
    "xlabel('$\\ln(h)$')\n",
    "ylabel('$\\ln(e)$')\n",
    "title(\"Schemas implicites\")\n",
    "legend(bbox_to_anchor=(1.04,1),loc='upper left')\n",
    "grid(True)\n",
    "\n",
    "figure(3)\n",
    "loglog(H,err_em, 'c-o',label='Euler modifie')\n",
    "loglog(H,err_heun, 'y->',label='Heun')\n",
    "loglog(H,err_AM4AB2, 'r-<',label='AM4-AB2')\n",
    "loglog(H,err_AM4AB3, 'b-v',label='AM4-AB3')\n",
    "loglog(H,err_AM4AB4, 'm-*',label='AM4-AB4')\n",
    "xlabel('$\\ln(h)$')\n",
    "ylabel('$\\ln(e)$')\n",
    "title(\"Schemas predicteur-correcteur\")\n",
    "legend(bbox_to_anchor=(1.04,1),loc='upper left')\n",
    "grid(True)\n",
    "\n",
    "show()"
   ]
  },
  {
   "cell_type": "code",
   "execution_count": null,
   "metadata": {
    "colab": {
     "autoexec": {
      "startup": false,
      "wait_interval": 0
     }
    },
    "colab_type": "code",
    "id": "uzaVPXUcUzgC"
   },
   "outputs": [],
   "source": []
  }
 ],
 "metadata": {
  "colab": {
   "collapsed_sections": [],
   "default_view": {},
   "name": "EdoExplicites.ipynb",
   "provenance": [],
   "version": "0.3.2",
   "views": {}
  },
  "kernelspec": {
   "display_name": "Python 2",
   "language": "python",
   "name": "python2"
  },
  "language_info": {
   "codemirror_mode": {
    "name": "ipython",
    "version": 3
   },
   "file_extension": ".py",
   "mimetype": "text/x-python",
   "name": "python",
   "nbconvert_exporter": "python",
   "pygments_lexer": "ipython3",
   "version": "3.6.2"
  },
  "latex_envs": {
   "LaTeX_envs_menu_present": true,
   "autoclose": true,
   "autocomplete": true,
   "bibliofile": "biblio.bib",
   "cite_by": "apalike",
   "current_citInitial": 1,
   "eqLabelWithNumbers": true,
   "eqNumInitial": 1,
   "hotkeys": {
    "equation": "Ctrl-E",
    "itemize": "Ctrl-I"
   },
   "labels_anchors": false,
   "latex_user_defs": false,
   "report_style_numbering": true,
   "user_envs_cfg": true
  },
  "toc": {
   "nav_menu": {},
   "number_sections": true,
   "sideBar": true,
   "skip_h1_title": true,
   "title_cell": "Table of Contents",
   "title_sidebar": "Contents",
   "toc_cell": true,
   "toc_position": {},
   "toc_section_display": true,
   "toc_window_display": false
  }
 },
 "nbformat": 4,
 "nbformat_minor": 1
}
